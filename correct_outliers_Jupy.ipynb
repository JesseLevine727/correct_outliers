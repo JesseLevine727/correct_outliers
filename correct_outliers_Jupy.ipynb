{
 "cells": [
  {
   "cell_type": "code",
   "execution_count": 30,
   "metadata": {},
   "outputs": [],
   "source": [
    "import pandas as pd\n",
    "\n",
    "non_asthma = pd.read_excel('Asthma Results - Raw.xlsx',sheet_name='Non-Asthmatic')\n",
    "\n",
    "quartiles = non_asthma.quantile([0.25,0.75])\n",
    "medians = non_asthma.median()\n",
    "\n",
    "for feature in non_asthma.columns:\n",
    "    Q_1 = quartiles.loc[0.25,feature]\n",
    "    Q_3 = quartiles.loc[0.75,feature]\n",
    "    median = medians[feature]\n",
    "\n",
    "    for i, x in enumerate(non_asthma[feature]):\n",
    "        if x < Q_1 or x > Q_3:\n",
    "            non_asthma.at[i,feature] = median\n"
   ]
  },
  {
   "cell_type": "code",
   "execution_count": 31,
   "metadata": {},
   "outputs": [],
   "source": [
    "non_asthma.to_excel('work.xlsx', index=False,sheet_name='sheet1')"
   ]
  },
  {
   "cell_type": "code",
   "execution_count": 32,
   "metadata": {},
   "outputs": [],
   "source": [
    "asthmatic = pd.read_excel('Asthma Results - Raw.xlsx',sheet_name='Asthmatic')\n",
    "\n",
    "quartiles = asthmatic.quantile([0.25,0.75])\n",
    "medians = asthmatic.median()\n",
    "\n",
    "for feature in asthmatic.columns:\n",
    "    Q_1 = quartiles.loc[0.25,feature]\n",
    "    Q_3 = quartiles.loc[0.75,feature]\n",
    "    median = medians[feature]\n",
    "\n",
    "    for i, x in enumerate(asthmatic[feature]):\n",
    "        if x < Q_1 or x > Q_3:\n",
    "            asthmatic.at[i,feature] = median"
   ]
  },
  {
   "cell_type": "code",
   "execution_count": 33,
   "metadata": {},
   "outputs": [],
   "source": [
    "with pd.ExcelWriter('work.xlsx',engine='openpyxl',mode = 'a') as writer:\n",
    "\n",
    "    asthmatic.to_excel(writer, index=False,sheet_name='sheet2')"
   ]
  }
 ],
 "metadata": {
  "kernelspec": {
   "display_name": "base",
   "language": "python",
   "name": "python3"
  },
  "language_info": {
   "codemirror_mode": {
    "name": "ipython",
    "version": 3
   },
   "file_extension": ".py",
   "mimetype": "text/x-python",
   "name": "python",
   "nbconvert_exporter": "python",
   "pygments_lexer": "ipython3",
   "version": "3.9.12"
  },
  "orig_nbformat": 4
 },
 "nbformat": 4,
 "nbformat_minor": 2
}
